{
 "cells": [
  {
   "cell_type": "code",
   "execution_count": 1,
   "metadata": {},
   "outputs": [],
   "source": [
    "f = open('hw0_data.dat')"
   ]
  },
  {
   "cell_type": "code",
   "execution_count": 2,
   "metadata": {},
   "outputs": [
    {
     "ename": "AttributeError",
     "evalue": "'_io.TextIOWrapper' object has no attribute 'redaline'",
     "output_type": "error",
     "traceback": [
      "\u001b[1;31m---------------------------------------------------------------------------\u001b[0m",
      "\u001b[1;31mAttributeError\u001b[0m                            Traceback (most recent call last)",
      "\u001b[1;32m<ipython-input-2-39e8c7cabbcf>\u001b[0m in \u001b[0;36m<module>\u001b[1;34m\u001b[0m\n\u001b[0;32m      1\u001b[0m \u001b[0mf\u001b[0m \u001b[1;33m=\u001b[0m \u001b[0mopen\u001b[0m\u001b[1;33m(\u001b[0m\u001b[1;34m'hw0_data.dat'\u001b[0m\u001b[1;33m)\u001b[0m\u001b[1;33m\u001b[0m\u001b[1;33m\u001b[0m\u001b[0m\n\u001b[1;32m----> 2\u001b[1;33m \u001b[0mf\u001b[0m\u001b[1;33m.\u001b[0m\u001b[0mredaline\u001b[0m\u001b[1;33m(\u001b[0m\u001b[1;33m)\u001b[0m\u001b[1;33m\u001b[0m\u001b[1;33m\u001b[0m\u001b[0m\n\u001b[0m",
      "\u001b[1;31mAttributeError\u001b[0m: '_io.TextIOWrapper' object has no attribute 'redaline'"
     ]
    }
   ],
   "source": [
    "f = open('hw0_data.dat')\n",
    "f.redaline()"
   ]
  },
  {
   "cell_type": "code",
   "execution_count": 3,
   "metadata": {},
   "outputs": [
    {
     "data": {
      "text/plain": [
       "' 4.115 5.020 -7.879 -11.780 2.004 -0.353 -0.735 3.561 2.441 -9.822 +1\\n'"
      ]
     },
     "execution_count": 3,
     "metadata": {},
     "output_type": "execute_result"
    }
   ],
   "source": [
    "f = open('hw0_data.dat')\n",
    "f.readline()"
   ]
  },
  {
   "cell_type": "code",
   "execution_count": 11,
   "metadata": {},
   "outputs": [
    {
     "name": "stdout",
     "output_type": "stream",
     "text": [
      " 4.115 5.020 -7.879 -11.780 2.004 -0.353 -0.735 3.561 2.441 -9.822 +1\n",
      "\n",
      " -3.557 0.997 2.932 7.672 5.430 -0.137 1.635 -5.190 -0.394 -7.667 +1\n",
      "\n"
     ]
    }
   ],
   "source": [
    "f = open('hw0_data.dat')\n",
    "s1=f.readline()\n",
    "s2=f.readline()\n",
    "print(s1)\n",
    "print(s2)"
   ]
  },
  {
   "cell_type": "code",
   "execution_count": 21,
   "metadata": {},
   "outputs": [
    {
     "ename": "SyntaxError",
     "evalue": "starred assignment target must be in a list or tuple (<ipython-input-21-ebdfb0949482>, line 6)",
     "output_type": "error",
     "traceback": [
      "\u001b[1;36m  File \u001b[1;32m\"<ipython-input-21-ebdfb0949482>\"\u001b[1;36m, line \u001b[1;32m6\u001b[0m\n\u001b[1;33m    *print(s2)\u001b[0m\n\u001b[1;37m           ^\u001b[0m\n\u001b[1;31mSyntaxError\u001b[0m\u001b[1;31m:\u001b[0m starred assignment target must be in a list or tuple\n"
     ]
    }
   ],
   "source": [
    "import pandas as np\n",
    "f = open('hw0_data.dat')\n",
    "*s1=f.readline()\n",
    "*s2=f.readline()\n",
    "*print(s1)\n",
    "*print(s2)\n",
    "array = np.array(f).astype(float)\n",
    "for i in range(0, 500, 1):\n",
    "     s1 = array[i]\n",
    "     "
   ]
  },
  {
   "cell_type": "code",
   "execution_count": 30,
   "metadata": {},
   "outputs": [
    {
     "name": "stdout",
     "output_type": "stream",
     "text": [
      " 4.115 5.020 -7.879 -11.780 2.004 -0.353 -0.735 3.561 2.441 -9.822 +1\n",
      "\n",
      " -3.557 0.997 2.932 7.672 5.430 -0.137 1.635 -5.190 -0.394 -7.667 +1\n",
      "\n"
     ]
    }
   ],
   "source": [
    "f = open('hw0_data.dat')\n",
    "s1=f.readline()\n",
    "s2=f.readline()\n",
    "print(s1)\n",
    "print(s2)\n"
   ]
  },
  {
   "cell_type": "code",
   "execution_count": 38,
   "metadata": {},
   "outputs": [
    {
     "name": "stdout",
     "output_type": "stream",
     "text": [
      " 4.115 5.020 -7.879 -11.780 2.004 -0.353 -0.735 3.561 2.441 -9.822 +1\n",
      "\n",
      " -3.557 0.997 2.932 7.672 5.430 -0.137 1.635 -5.190 -0.394 -7.667 +1\n",
      "\n"
     ]
    },
    {
     "ename": "TypeError",
     "evalue": "float() argument must be a string or a number, not '_io.TextIOWrapper'",
     "output_type": "error",
     "traceback": [
      "\u001b[1;31m---------------------------------------------------------------------------\u001b[0m",
      "\u001b[1;31mTypeError\u001b[0m                                 Traceback (most recent call last)",
      "\u001b[1;32m<ipython-input-38-3603e318efc1>\u001b[0m in \u001b[0;36m<module>\u001b[1;34m\u001b[0m\n\u001b[0;32m      8\u001b[0m \u001b[0mprint\u001b[0m\u001b[1;33m(\u001b[0m\u001b[0ms2\u001b[0m\u001b[1;33m)\u001b[0m\u001b[1;33m\u001b[0m\u001b[1;33m\u001b[0m\u001b[0m\n\u001b[0;32m      9\u001b[0m \u001b[1;33m\u001b[0m\u001b[0m\n\u001b[1;32m---> 10\u001b[1;33m \u001b[0marray\u001b[0m \u001b[1;33m=\u001b[0m \u001b[0mnp\u001b[0m\u001b[1;33m.\u001b[0m\u001b[0marray\u001b[0m\u001b[1;33m(\u001b[0m\u001b[0mf\u001b[0m\u001b[1;33m)\u001b[0m\u001b[1;33m.\u001b[0m\u001b[0mastype\u001b[0m\u001b[1;33m(\u001b[0m\u001b[0mfloat\u001b[0m\u001b[1;33m)\u001b[0m\u001b[1;33m\u001b[0m\u001b[1;33m\u001b[0m\u001b[0m\n\u001b[0m\u001b[0;32m     11\u001b[0m \u001b[1;33m\u001b[0m\u001b[0m\n\u001b[0;32m     12\u001b[0m \u001b[0mx_list\u001b[0m \u001b[1;33m=\u001b[0m \u001b[1;33m[\u001b[0m\u001b[1;33m]\u001b[0m\u001b[1;33m\u001b[0m\u001b[1;33m\u001b[0m\u001b[0m\n",
      "\u001b[1;31mTypeError\u001b[0m: float() argument must be a string or a number, not '_io.TextIOWrapper'"
     ]
    }
   ],
   "source": [
    "import pandas as pd\n",
    "import numpy as np\n",
    "\n",
    "f = open('hw0_data.dat')\n",
    "s1=f.readline()\n",
    "s2=f.readline()\n",
    "print(s1)\n",
    "print(s2)\n",
    "\n",
    "array = np.array(f).astype(float)\n",
    "\n",
    "x_list = []\n",
    "\n",
    "for i in range(0, 500, 1):\n",
    "        for j in range(24-9):\n",
    "            mat = array[i:i+18, j:j+9]\n",
    "            label = array[i] # 第10行是PM2.5\n",
    "            x_list.append(mat)\n",
    "            y_list.append(label)\n",
    "            \n",
    "x = np.array(x_list)            "
   ]
  },
  {
   "cell_type": "code",
   "execution_count": 39,
   "metadata": {},
   "outputs": [
    {
     "name": "stdout",
     "output_type": "stream",
     "text": [
      " 4.115 5.020 -7.879 -11.780 2.004 -0.353 -0.735 3.561 2.441 -9.822 +1\n",
      "\n",
      " -3.557 0.997 2.932 7.672 5.430 -0.137 1.635 -5.190 -0.394 -7.667 +1\n",
      "\n"
     ]
    }
   ],
   "source": [
    "f = open('hw0_data.dat')\n",
    "s1=f.readline()\n",
    "s2=f.readline()\n",
    "print(s1)\n",
    "print(s2)\n",
    "import numpy as np"
   ]
  },
  {
   "cell_type": "code",
   "execution_count": 43,
   "metadata": {},
   "outputs": [
    {
     "name": "stdout",
     "output_type": "stream",
     "text": [
      " 4.115 5.020 -7.879 -11.780 2.004 -0.353 -0.735 3.561 2.441 -9.822 +1\n",
      "\n",
      " -3.557 0.997 2.932 7.672 5.430 -0.137 1.635 -5.190 -0.394 -7.667 +1\n",
      "\n"
     ]
    },
    {
     "ename": "TypeError",
     "evalue": "unsupported operand type(s) for -: 'str' and 'int'",
     "output_type": "error",
     "traceback": [
      "\u001b[1;31m---------------------------------------------------------------------------\u001b[0m",
      "\u001b[1;31mTypeError\u001b[0m                                 Traceback (most recent call last)",
      "\u001b[1;32m<ipython-input-43-07708b9c5cad>\u001b[0m in \u001b[0;36m<module>\u001b[1;34m\u001b[0m\n\u001b[0;32m      7\u001b[0m \u001b[0mprint\u001b[0m\u001b[1;33m(\u001b[0m\u001b[0ms2\u001b[0m\u001b[1;33m)\u001b[0m\u001b[1;33m\u001b[0m\u001b[1;33m\u001b[0m\u001b[0m\n\u001b[0;32m      8\u001b[0m \u001b[1;33m\u001b[0m\u001b[0m\n\u001b[1;32m----> 9\u001b[1;33m \u001b[0marray\u001b[0m \u001b[1;33m=\u001b[0m \u001b[0mnp\u001b[0m\u001b[1;33m.\u001b[0m\u001b[0marange\u001b[0m\u001b[1;33m(\u001b[0m\u001b[1;34m'hw0_data.dat'\u001b[0m\u001b[1;33m)\u001b[0m\u001b[1;33m\u001b[0m\u001b[1;33m\u001b[0m\u001b[0m\n\u001b[0m\u001b[0;32m     10\u001b[0m \u001b[0marray2\u001b[0m\u001b[1;33m[\u001b[0m\u001b[1;36m2\u001b[0m\u001b[1;33m,\u001b[0m\u001b[1;36m1\u001b[0m\u001b[1;33m]\u001b[0m\u001b[1;33m\u001b[0m\u001b[1;33m\u001b[0m\u001b[0m\n",
      "\u001b[1;31mTypeError\u001b[0m: unsupported operand type(s) for -: 'str' and 'int'"
     ]
    }
   ],
   "source": [
    "import numpy as np\n",
    "\n",
    "f = open('hw0_data.dat')\n",
    "s1=f.readline()\n",
    "s2=f.readline()\n",
    "print(s1)\n",
    "print(s2)\n",
    "\n",
    "array = np.arange(f)\n",
    "array2[2,1]\n"
   ]
  },
  {
   "cell_type": "code",
   "execution_count": 45,
   "metadata": {
    "scrolled": true
   },
   "outputs": [
    {
     "name": "stdout",
     "output_type": "stream",
     "text": [
      " 4.115 5.020 -7.879 -11.780 2.004 -0.353 -0.735 3.561 2.441 -9.822 +1\n",
      "\n",
      " -3.557 0.997 2.932 7.672 5.430 -0.137 1.635 -5.190 -0.394 -7.667 +1\n",
      "\n",
      "<_io.TextIOWrapper name='hw0_data.dat' mode='r' encoding='cp950'>\n"
     ]
    }
   ],
   "source": [
    "import numpy as np\n",
    "\n",
    "f = open('hw0_data.dat')\n",
    "s1=f.readline()\n",
    "s2=f.readline()\n",
    "print(s1)\n",
    "print(s2)\n",
    "\n",
    "array = np.array(f)\n",
    "print(array)"
   ]
  },
  {
   "cell_type": "code",
   "execution_count": 47,
   "metadata": {},
   "outputs": [
    {
     "name": "stdout",
     "output_type": "stream",
     "text": [
      "['-0.010', '-0.022', '-0.026', '-0.103', '-0.238', '-0.243', '-0.284', '-0.315', '-0.411', '-0.415', '-0.427', '-0.466', '-0.583', '-0.610', '-0.618', '-0.641', '-0.652', '-0.705', '-0.749', '-0.755', '-0.764', '-0.770', '-0.783', '-0.795', '-0.821', '-0.829', '-0.832', '-0.852', '-0.865', '-0.868', '-0.916', '-1.008', '-1.017', '-1.084', '-1.095', '-1.099', '-1.107', '-1.127', '-1.155', '-1.208', '-1.231', '-1.237', '-1.262', '-1.276', '-1.282', '-1.289', '-1.337', '-1.399', '-1.420', '-1.450', '-1.523', '-1.532', '-1.586', '-1.624', '-1.743', '-1.750', '-1.755', '-1.762', '-1.778', '-1.789', '-1.791', '-1.808', '-1.896', '-1.923', '-1.927', '-1.967', '-1.979', '-1.981', '-10.169', '-10.791', '-2.006', '-2.014', '-2.014', '-2.053', '-2.061', '-2.061', '-2.081', '-2.088', '-2.095', '-2.151', '-2.153', '-2.153', '-2.184', '-2.196', '-2.232', '-2.236', '-2.246', '-2.247', '-2.298', '-2.322', '-2.324', '-2.325', '-2.346', '-2.399', '-2.434', '-2.474', '-2.509', '-2.563', '-2.598', '-2.602', '-2.624', '-2.630', '-2.631', '-2.679', '-2.758', '-2.772', '-2.798', '-2.819', '-2.873', '-2.936', '-2.959', '-2.985', '-2.992', '-3.072', '-3.133', '-3.158', '-3.186', '-3.186', '-3.207', '-3.248', '-3.249', '-3.255', '-3.324', '-3.385', '-3.400', '-3.443', '-3.463', '-3.475', '-3.540', '-3.557', '-3.560', '-3.616', '-3.641', '-3.644', '-3.681', '-3.681', '-3.726', '-3.767', '-3.778', '-3.802', '-3.868', '-3.869', '-3.877', '-3.926', '-3.926', '-3.955', '-3.973', '-3.979', '-4.020', '-4.106', '-4.127', '-4.129', '-4.181', '-4.248', '-4.278', '-4.284', '-4.299', '-4.310', '-4.392', '-4.420', '-4.426', '-4.437', '-4.490', '-4.508', '-4.577', '-4.579', '-4.650', '-4.651', '-4.673', '-4.691', '-4.696', '-4.700', '-4.718', '-4.732', '-4.759', '-4.773', '-4.839', '-4.915', '-4.948', '-4.951', '-4.954', '-5.065', '-5.129', '-5.212', '-5.254', '-5.274', '-5.347', '-5.485', '-5.500', '-5.585', '-5.589', '-5.626', '-5.714', '-5.767', '-5.820', '-5.886', '-5.905', '-6.007', '-6.079', '-6.084', '-6.239', '-6.256', '-6.344', '-6.367', '-6.378', '-6.422', '-6.471', '-6.517', '-6.662', '-6.712', '-6.767', '-6.884', '-7.142', '-7.175', '-7.233', '-7.238', '-7.245', '-7.341', '-7.347', '-7.434', '-7.499', '-7.527', '-7.536', '-7.538', '-7.569', '-7.674', '-7.687', '-7.764', '-7.764', '-7.782', '-7.837', '-7.859', '-7.881', '-7.895', '-7.952', '-7.967', '-7.972', '-8.008', '-8.023', '-8.049', '-8.085', '-8.119', '-8.138', '-8.155', '-8.157', '-8.189', '-8.197', '-8.255', '-8.257', '-8.283', '-8.293', '-8.323', '-8.332', '-8.433', '-8.460', '-8.464', '-8.488', '-8.505', '-8.547', '-8.550', '-8.562', '-8.589', '-8.618', '-8.628', '-8.707', '-8.733', '-8.740', '-8.760', '-8.778', '-8.819', '-8.885', '-8.896', '-8.978', '-8.983', '-9.004', '-9.116', '-9.141', '-9.151', '-9.166', '-9.210', '-9.241', '-9.261', '-9.278', '-9.323', '-9.328', '-9.371', '-9.408', '-9.413', '-9.510', '-9.586', '-9.597', '-9.713', '-9.833', '-9.865', '-9.925', '0.064', '0.202', '0.429', '0.494', '0.539', '0.568', '0.609', '0.632', '0.667', '0.693', '0.852', '0.891', '0.900', '0.901', '0.916', '0.966', '1.117', '1.177', '1.179', '1.257', '1.316', '1.320', '1.351', '1.391', '1.439', '1.464', '1.507', '1.573', '1.597', '1.679', '1.706', '1.722', '1.733', '1.753', '1.769', '1.866', '1.888', '1.951', '2.009', '2.030', '2.056', '2.068', '2.089', '2.139', '2.139', '2.144', '2.193', '2.231', '2.325', '2.329', '2.332', '2.362', '2.383', '2.416', '2.500', '2.516', '2.575', '2.613', '2.678', '2.682', '2.724', '2.731', '2.766', '2.815', '2.830', '2.848', '2.853', '2.854', '2.923', '2.958', '2.963', '3.004', '3.042', '3.119', '3.131', '3.132', '3.211', '3.277', '3.338', '3.476', '3.501', '3.525', '3.543', '3.573', '3.626', '3.697', '3.708', '3.752', '3.767', '3.820', '3.821', '3.826', '3.850', '3.917', '3.967', '4.024', '4.042', '4.115', '4.118', '4.152', '4.172', '4.198', '4.211', '4.249', '4.280', '4.298', '4.308', '4.404', '4.413', '4.481', '4.565', '4.597', '4.625', '4.717', '4.737', '4.795', '4.812', '4.840', '4.916', '5.003', '5.013', '5.045', '5.100', '5.101', '5.191', '5.263', '5.312', '5.406', '5.411', '5.439', '5.462', '5.554', '5.572', '5.590', '5.651', '5.659', '5.692', '5.720', '5.726', '5.737', '5.748', '5.760', '5.777', '5.819', '5.827', '5.881', '5.926', '6.017', '6.157', '6.178', '6.201', '6.225', '6.281', '6.315', '6.332', '6.417', '6.431', '6.471', '6.532', '6.578', '6.610', '6.612', '6.629', '6.645', '6.656', '6.700', '6.723', '6.772', '6.782', '6.859', '6.872', '6.913', '6.916', '6.922', '6.961', '6.985', '6.997', '7.011', '7.080', '7.142', '7.171', '7.175', '7.333', '7.389', '7.394', '7.414', '7.588', '7.707', '7.792', '7.854', '7.891', '7.925', '7.938', '7.974', '7.976', '8.011', '8.029', '8.033', '8.124', '8.208', '8.263', '8.426', '8.535', '8.677', '9.239']\n"
     ]
    }
   ],
   "source": [
    "f=open(\"hw0_data.dat\")\n",
    "\n",
    "target=1\n",
    "answers=[]\n",
    "\n",
    "for line in f:\n",
    "    n=line.split()\n",
    "    index=target-1\n",
    "    answers.append(n[index])\n",
    "    \n",
    "answers.sort()\n",
    "print(answers)\n",
    "\n",
    "output=\"ans1.txt\"\n",
    "f=open(output, 'w')\n",
    "f.write(str(answers))\n",
    "f.close()"
   ]
  },
  {
   "cell_type": "code",
   "execution_count": 50,
   "metadata": {},
   "outputs": [
    {
     "ename": "AttributeError",
     "evalue": "module 'PIL' has no attribute 'Image'",
     "output_type": "error",
     "traceback": [
      "\u001b[1;31m---------------------------------------------------------------------------\u001b[0m",
      "\u001b[1;31mAttributeError\u001b[0m                            Traceback (most recent call last)",
      "\u001b[1;32m<ipython-input-50-e865c0b553fe>\u001b[0m in \u001b[0;36m<module>\u001b[1;34m\u001b[0m\n\u001b[0;32m      1\u001b[0m \u001b[1;32mimport\u001b[0m \u001b[0mPIL\u001b[0m\u001b[1;33m\u001b[0m\u001b[1;33m\u001b[0m\u001b[0m\n\u001b[1;32m----> 2\u001b[1;33m \u001b[0mpil_color_image\u001b[0m \u001b[1;33m=\u001b[0m \u001b[0mPIL\u001b[0m\u001b[1;33m.\u001b[0m\u001b[0mImage\u001b[0m\u001b[1;33m.\u001b[0m\u001b[0mopen\u001b[0m\u001b[1;33m(\u001b[0m\u001b[1;34m\"The Grand Budapest Hotel.jpg\"\u001b[0m\u001b[1;33m)\u001b[0m\u001b[1;33m\u001b[0m\u001b[1;33m\u001b[0m\u001b[0m\n\u001b[0m",
      "\u001b[1;31mAttributeError\u001b[0m: module 'PIL' has no attribute 'Image'"
     ]
    }
   ],
   "source": [
    "import PIL\n",
    "pil_color_image = PIL.Image.open(\"The Grand Budapest Hotel.jpg\")\n"
   ]
  },
  {
   "cell_type": "code",
   "execution_count": null,
   "metadata": {},
   "outputs": [],
   "source": []
  },
  {
   "cell_type": "code",
   "execution_count": 53,
   "metadata": {},
   "outputs": [
    {
     "ename": "AttributeError",
     "evalue": "module 'PIL' has no attribute 'open'",
     "output_type": "error",
     "traceback": [
      "\u001b[1;31m---------------------------------------------------------------------------\u001b[0m",
      "\u001b[1;31mAttributeError\u001b[0m                            Traceback (most recent call last)",
      "\u001b[1;32m<ipython-input-53-3b3c79e3ee4e>\u001b[0m in \u001b[0;36m<module>\u001b[1;34m\u001b[0m\n\u001b[0;32m      1\u001b[0m \u001b[1;32mimport\u001b[0m \u001b[0mPIL\u001b[0m\u001b[1;33m\u001b[0m\u001b[1;33m\u001b[0m\u001b[0m\n\u001b[1;32m----> 2\u001b[1;33m \u001b[0mpil_color_image\u001b[0m \u001b[1;33m=\u001b[0m \u001b[0mPIL\u001b[0m\u001b[1;33m.\u001b[0m\u001b[0mopen\u001b[0m\u001b[1;33m(\u001b[0m\u001b[1;34m\"The Grand Budapest Hotel.jpg\"\u001b[0m\u001b[1;33m)\u001b[0m\u001b[1;33m\u001b[0m\u001b[1;33m\u001b[0m\u001b[0m\n\u001b[0m",
      "\u001b[1;31mAttributeError\u001b[0m: module 'PIL' has no attribute 'open'"
     ]
    }
   ],
   "source": [
    "import PIL\n",
    "pil_color_image = PIL.open(\"The Grand Budapest Hotel.jpg\")\n"
   ]
  },
  {
   "cell_type": "code",
   "execution_count": 52,
   "metadata": {},
   "outputs": [],
   "source": [
    "import PIL"
   ]
  },
  {
   "cell_type": "code",
   "execution_count": 56,
   "metadata": {},
   "outputs": [],
   "source": [
    "from PIL import Image\n",
    "im=Image.open('The Grand Budapest Hotel.jpg')\n",
    "im.show()"
   ]
  },
  {
   "cell_type": "code",
   "execution_count": 60,
   "metadata": {},
   "outputs": [],
   "source": [
    "from PIL import Image\n",
    "im=Image.open('Lena.png')\n",
    "#im.show()\n",
    "\n",
    "rotated=im.rotate(45)\n",
    "rotated.show()\n",
    "\n"
   ]
  },
  {
   "cell_type": "code",
   "execution_count": 66,
   "metadata": {},
   "outputs": [],
   "source": [
    "from PIL import Image\n",
    "im=Image.open('Lena.png')\n",
    "\n",
    "im.transpose(Image.FLIP_LEFT_RIGHT).transpose(Image.FLIP_TOP_BOTTOM)\n",
    "im.show()\n"
   ]
  },
  {
   "cell_type": "code",
   "execution_count": 70,
   "metadata": {},
   "outputs": [],
   "source": [
    "from PIL import Image\n",
    "im=Image.open('Lena.png')\n",
    "\n",
    "output = im.transpose(Image.FLIP_LEFT_RIGHT).transpose(Image.FLIP_TOP_BOTTOM)\n",
    "output.show()\n",
    "output.save('ans2.png')"
   ]
  },
  {
   "cell_type": "code",
   "execution_count": null,
   "metadata": {},
   "outputs": [],
   "source": []
  }
 ],
 "metadata": {
  "kernelspec": {
   "display_name": "Python 3",
   "language": "python",
   "name": "python3"
  },
  "language_info": {
   "codemirror_mode": {
    "name": "ipython",
    "version": 3
   },
   "file_extension": ".py",
   "mimetype": "text/x-python",
   "name": "python",
   "nbconvert_exporter": "python",
   "pygments_lexer": "ipython3",
   "version": "3.7.3"
  }
 },
 "nbformat": 4,
 "nbformat_minor": 2
}
